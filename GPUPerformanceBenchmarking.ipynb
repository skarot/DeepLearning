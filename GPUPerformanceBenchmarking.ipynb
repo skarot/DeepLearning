{
  "nbformat": 4,
  "nbformat_minor": 0,
  "metadata": {
    "colab": {
      "name": "Untitled18.ipynb",
      "provenance": [],
      "collapsed_sections": [
        "c76Y5NlkAFmK",
        "I7P6Exo1ALGv",
        "9XcECbq1AOe5",
        "AGJxxQpWARmG"
      ],
      "authorship_tag": "ABX9TyOxlzx08Irta/oZzcsPdt+G",
      "include_colab_link": true
    },
    "kernelspec": {
      "name": "python3",
      "display_name": "Python 3"
    },
    "language_info": {
      "name": "python"
    },
    "accelerator": "GPU",
    "gpuClass": "standard"
  },
  "cells": [
    {
      "cell_type": "markdown",
      "metadata": {
        "id": "view-in-github",
        "colab_type": "text"
      },
      "source": [
        "<a href=\"https://colab.research.google.com/github/skarot/DeepLearning/blob/main/GPUPerformanceBenchmarking.ipynb\" target=\"_parent\"><img src=\"https://colab.research.google.com/assets/colab-badge.svg\" alt=\"Open In Colab\"/></a>"
      ]
    },
    {
      "cell_type": "markdown",
      "source": [
        "# GPU bench-marking with image classification with ANN"
      ],
      "metadata": {
        "id": "wbOJ_3NlAZ8h"
      }
    },
    {
      "cell_type": "markdown",
      "source": [
        "## Configure GPU for tensorflow"
      ],
      "metadata": {
        "id": "c76Y5NlkAFmK"
      }
    },
    {
      "cell_type": "code",
      "execution_count": 2,
      "metadata": {
        "id": "hR-ipBEq6dut"
      },
      "outputs": [],
      "source": [
        "import tensorflow as tf\n",
        "from tensorflow import keras\n",
        "import numpy as np\n",
        "import matplotlib.pyplot as plt"
      ]
    },
    {
      "cell_type": "code",
      "source": [
        "device_name = tf.config.experimental.list_physical_devices()"
      ],
      "metadata": {
        "id": "YvCo2pQy6m07"
      },
      "execution_count": 3,
      "outputs": []
    },
    {
      "cell_type": "code",
      "source": [
        "device_name"
      ],
      "metadata": {
        "colab": {
          "base_uri": "https://localhost:8080/"
        },
        "id": "QXkiDoIz8WiX",
        "outputId": "1f28d6bc-51ae-4ffb-c296-f9499798bb79"
      },
      "execution_count": 4,
      "outputs": [
        {
          "output_type": "execute_result",
          "data": {
            "text/plain": [
              "[PhysicalDevice(name='/physical_device:CPU:0', device_type='CPU'),\n",
              " PhysicalDevice(name='/physical_device:GPU:0', device_type='GPU')]"
            ]
          },
          "metadata": {},
          "execution_count": 4
        }
      ]
    },
    {
      "cell_type": "code",
      "source": [
        "tf.test.is_built_with_cuda()"
      ],
      "metadata": {
        "colab": {
          "base_uri": "https://localhost:8080/"
        },
        "id": "TKcea0uX6xhG",
        "outputId": "4ef2b154-e27b-4109-d2fd-507e05d011f0"
      },
      "execution_count": 5,
      "outputs": [
        {
          "output_type": "execute_result",
          "data": {
            "text/plain": [
              "True"
            ]
          },
          "metadata": {},
          "execution_count": 5
        }
      ]
    },
    {
      "cell_type": "markdown",
      "source": [
        "## LOad data"
      ],
      "metadata": {
        "id": "I7P6Exo1ALGv"
      }
    },
    {
      "cell_type": "code",
      "source": [
        "(X_train,y_train),(X_test,y_test) = tf.keras.datasets.cifar10.load_data()"
      ],
      "metadata": {
        "colab": {
          "base_uri": "https://localhost:8080/"
        },
        "id": "-7jnJWJT6418",
        "outputId": "c12449d8-c710-4f2d-8f29-eba3c0033725"
      },
      "execution_count": 6,
      "outputs": [
        {
          "output_type": "stream",
          "name": "stdout",
          "text": [
            "Downloading data from https://www.cs.toronto.edu/~kriz/cifar-10-python.tar.gz\n",
            "170500096/170498071 [==============================] - 2s 0us/step\n",
            "170508288/170498071 [==============================] - 2s 0us/step\n"
          ]
        }
      ]
    },
    {
      "cell_type": "markdown",
      "source": [
        "## Analyse Data"
      ],
      "metadata": {
        "id": "9XcECbq1AOe5"
      }
    },
    {
      "cell_type": "code",
      "source": [
        "X_train.shape"
      ],
      "metadata": {
        "colab": {
          "base_uri": "https://localhost:8080/"
        },
        "id": "QJCn5Jv_9U5t",
        "outputId": "314eeaef-eecb-4919-f888-4ce0128fe444"
      },
      "execution_count": 7,
      "outputs": [
        {
          "output_type": "execute_result",
          "data": {
            "text/plain": [
              "(50000, 32, 32, 3)"
            ]
          },
          "metadata": {},
          "execution_count": 7
        }
      ]
    },
    {
      "cell_type": "code",
      "source": [
        "y_train.shape"
      ],
      "metadata": {
        "colab": {
          "base_uri": "https://localhost:8080/"
        },
        "id": "iZLrqL2v9YPW",
        "outputId": "78573b19-3afb-48d6-c6f1-ab6d09504756"
      },
      "execution_count": 8,
      "outputs": [
        {
          "output_type": "execute_result",
          "data": {
            "text/plain": [
              "(50000, 1)"
            ]
          },
          "metadata": {},
          "execution_count": 8
        }
      ]
    },
    {
      "cell_type": "code",
      "source": [
        "X_train[0]"
      ],
      "metadata": {
        "colab": {
          "base_uri": "https://localhost:8080/"
        },
        "id": "gIoCx8_U9kD7",
        "outputId": "bbe68d24-362f-4335-94a7-c533c6b7b4e7"
      },
      "execution_count": 9,
      "outputs": [
        {
          "output_type": "execute_result",
          "data": {
            "text/plain": [
              "array([[[ 59,  62,  63],\n",
              "        [ 43,  46,  45],\n",
              "        [ 50,  48,  43],\n",
              "        ...,\n",
              "        [158, 132, 108],\n",
              "        [152, 125, 102],\n",
              "        [148, 124, 103]],\n",
              "\n",
              "       [[ 16,  20,  20],\n",
              "        [  0,   0,   0],\n",
              "        [ 18,   8,   0],\n",
              "        ...,\n",
              "        [123,  88,  55],\n",
              "        [119,  83,  50],\n",
              "        [122,  87,  57]],\n",
              "\n",
              "       [[ 25,  24,  21],\n",
              "        [ 16,   7,   0],\n",
              "        [ 49,  27,   8],\n",
              "        ...,\n",
              "        [118,  84,  50],\n",
              "        [120,  84,  50],\n",
              "        [109,  73,  42]],\n",
              "\n",
              "       ...,\n",
              "\n",
              "       [[208, 170,  96],\n",
              "        [201, 153,  34],\n",
              "        [198, 161,  26],\n",
              "        ...,\n",
              "        [160, 133,  70],\n",
              "        [ 56,  31,   7],\n",
              "        [ 53,  34,  20]],\n",
              "\n",
              "       [[180, 139,  96],\n",
              "        [173, 123,  42],\n",
              "        [186, 144,  30],\n",
              "        ...,\n",
              "        [184, 148,  94],\n",
              "        [ 97,  62,  34],\n",
              "        [ 83,  53,  34]],\n",
              "\n",
              "       [[177, 144, 116],\n",
              "        [168, 129,  94],\n",
              "        [179, 142,  87],\n",
              "        ...,\n",
              "        [216, 184, 140],\n",
              "        [151, 118,  84],\n",
              "        [123,  92,  72]]], dtype=uint8)"
            ]
          },
          "metadata": {},
          "execution_count": 9
        }
      ]
    },
    {
      "cell_type": "code",
      "source": [
        "y_train[0:5]"
      ],
      "metadata": {
        "colab": {
          "base_uri": "https://localhost:8080/"
        },
        "id": "mEAR8zBP9sXu",
        "outputId": "e5e79cc4-c2c6-4519-cb42-e23947612c62"
      },
      "execution_count": 10,
      "outputs": [
        {
          "output_type": "execute_result",
          "data": {
            "text/plain": [
              "array([[6],\n",
              "       [9],\n",
              "       [9],\n",
              "       [4],\n",
              "       [1]], dtype=uint8)"
            ]
          },
          "metadata": {},
          "execution_count": 10
        }
      ]
    },
    {
      "cell_type": "markdown",
      "source": [
        "## Show Data"
      ],
      "metadata": {
        "id": "AGJxxQpWARmG"
      }
    },
    {
      "cell_type": "code",
      "source": [
        "def plot_sample(index):\n",
        "  plt.figure(figsize=(10,2))\n",
        "  plt.imshow(X_train[index])"
      ],
      "metadata": {
        "id": "e0V1qKJy9wmI"
      },
      "execution_count": 11,
      "outputs": []
    },
    {
      "cell_type": "code",
      "source": [
        "plot_sample(0)"
      ],
      "metadata": {
        "colab": {
          "base_uri": "https://localhost:8080/",
          "height": 0
        },
        "id": "t9IEqDDC-DPi",
        "outputId": "41d609cd-dd10-4deb-95d0-f003b596c8a5"
      },
      "execution_count": 12,
      "outputs": [
        {
          "output_type": "display_data",
          "data": {
            "text/plain": [
              "<Figure size 720x144 with 1 Axes>"
            ],
            "image/png": "[encoded data removed]"
          },
          "metadata": {
            "needs_background": "light"
          }
        }
      ]
    },
    {
      "cell_type": "code",
      "source": [
        "plot_sample(1)"
      ],
      "metadata": {
        "colab": {
          "base_uri": "https://localhost:8080/",
          "height": 0
        },
        "id": "1eguGnZF-SZS",
        "outputId": "97a8209b-b01c-4c54-858a-6fc659401f88"
      },
      "execution_count": 13,
      "outputs": [
        {
          "output_type": "display_data",
          "data": {
            "text/plain": [
              "<Figure size 720x144 with 1 Axes>"
            ],
            "image/png": "[encoded data removed]"
          },
          "metadata": {
            "needs_background": "light"
          }
        }
      ]
    },
    {
      "cell_type": "code",
      "source": [
        "classes = ['airplane','automobile','bird','cat','deer','dog','frog','horse','ship','truck']"
      ],
      "metadata": {
        "id": "4tGcqqHi-LZ3"
      },
      "execution_count": 14,
      "outputs": []
    },
    {
      "cell_type": "code",
      "source": [
        "y_train[3][0]"
      ],
      "metadata": {
        "colab": {
          "base_uri": "https://localhost:8080/"
        },
        "id": "4ZRp6A2o-7pi",
        "outputId": "91aa44b4-d8ad-4e3a-92aa-ff4cd93df214"
      },
      "execution_count": 15,
      "outputs": [
        {
          "output_type": "execute_result",
          "data": {
            "text/plain": [
              "4"
            ]
          },
          "metadata": {},
          "execution_count": 15
        }
      ]
    },
    {
      "cell_type": "code",
      "source": [
        "classes[y_train[3][0]]"
      ],
      "metadata": {
        "colab": {
          "base_uri": "https://localhost:8080/",
          "height": 0
        },
        "id": "KNHi5gaC-_nc",
        "outputId": "c6240ef8-dd47-4fd9-dd51-2221ebaa0a39"
      },
      "execution_count": 16,
      "outputs": [
        {
          "output_type": "execute_result",
          "data": {
            "text/plain": [
              "'deer'"
            ],
            "application/vnd.google.colaboratory.intrinsic+json": {
              "type": "string"
            }
          },
          "metadata": {},
          "execution_count": 16
        }
      ]
    },
    {
      "cell_type": "markdown",
      "source": [
        "## Scaling"
      ],
      "metadata": {
        "id": "DvfGRwj4ATms"
      }
    },
    {
      "cell_type": "code",
      "source": [
        "X_train_scaled = X_train/255"
      ],
      "metadata": {
        "id": "pET6GH0l_Fik"
      },
      "execution_count": 17,
      "outputs": []
    },
    {
      "cell_type": "code",
      "source": [
        "X_test_scaled = X_test/255"
      ],
      "metadata": {
        "id": "irMv9Npz_Kqo"
      },
      "execution_count": 18,
      "outputs": []
    },
    {
      "cell_type": "markdown",
      "source": [
        "## One hot encoding data to convert catagorical data to binary integers"
      ],
      "metadata": {
        "id": "ZqOZ4MQVAeGT"
      }
    },
    {
      "cell_type": "markdown",
      "source": [
        "It converts the values like 1,2, 3,4, 5 for num_classes 5 as 10000,01000,00100,00010,00001. Basically 1 against the original value and 0 for all other values in the num_class range. Here our num_class is 10 as we have 10 categories."
      ],
      "metadata": {
        "id": "sMmUViV8BP0q"
      }
    },
    {
      "cell_type": "code",
      "source": [
        "y_train_onehotencoded = keras.utils.to_categorical(y_train, num_classes = 10, dtype = 'float32')"
      ],
      "metadata": {
        "id": "OOdb-OhB_XOd"
      },
      "execution_count": 19,
      "outputs": []
    },
    {
      "cell_type": "code",
      "source": [
        "y_test_onehotencoded = keras.utils.to_categorical(y_test, num_classes  =10,dtype = 'float32')"
      ],
      "metadata": {
        "id": "yfiTKAwUBC-g"
      },
      "execution_count": 20,
      "outputs": []
    },
    {
      "cell_type": "code",
      "source": [
        "y_test_onehotencoded"
      ],
      "metadata": {
        "colab": {
          "base_uri": "https://localhost:8080/"
        },
        "id": "ykAK--ouBLTq",
        "outputId": "10bbe64f-659e-4c4b-bef9-4e6682572cae"
      },
      "execution_count": 21,
      "outputs": [
        {
          "output_type": "execute_result",
          "data": {
            "text/plain": [
              "array([[0., 0., 0., ..., 0., 0., 0.],\n",
              "       [0., 0., 0., ..., 0., 1., 0.],\n",
              "       [0., 0., 0., ..., 0., 1., 0.],\n",
              "       ...,\n",
              "       [0., 0., 0., ..., 0., 0., 0.],\n",
              "       [0., 1., 0., ..., 0., 0., 0.],\n",
              "       [0., 0., 0., ..., 1., 0., 0.]], dtype=float32)"
            ]
          },
          "metadata": {},
          "execution_count": 21
        }
      ]
    },
    {
      "cell_type": "markdown",
      "source": [
        "## Model Creation"
      ],
      "metadata": {
        "id": "2JVEACV2CeDw"
      }
    },
    {
      "cell_type": "markdown",
      "source": [
        "input layer will take the flattened shape of single sample of X_train, hence 32X32X3 = 3072 The dense units can be random but ususally close to the the input shape (3072), hence 3000. Relu works as a better activation fucntionfor any hidden layer, hence relu for middle 2 layers. Final output layer, we must reduce the output as a classification problem so sigmoid."
      ],
      "metadata": {
        "id": "0Mr54GQ5GMGP"
      }
    },
    {
      "cell_type": "code",
      "source": [
        "model = keras.Sequential([\n",
        "                          keras.layers.Flatten(input_shape = (32,32,3)),\n",
        "                          keras.layers.Dense(3000,activation = 'relu'),\n",
        "                          keras.layers.Dense(3000,activation = 'relu'),\n",
        "                          keras.layers.Dense(10,activation='sigmoid')\n",
        "])"
      ],
      "metadata": {
        "id": "7gR4rPz9Bwl_"
      },
      "execution_count": 22,
      "outputs": []
    },
    {
      "cell_type": "markdown",
      "source": [
        "Since the dataset is relatively huge, we should choose stochastical gradient descent, which chooses random samples in each epoch for training, in contrast to others which takes all the samples for each epoch, causing slow training."
      ],
      "metadata": {
        "id": "7IEfaqiMHT10"
      }
    },
    {
      "cell_type": "markdown",
      "source": [
        "For loss, we are using 'categorical_cross entropy' since out y_train_onehotencoded is one hot encoded, of form [[0001],[01000]....so on]. If we have descret values for y_train, like [[2],[4],[3]...so on], we use 'sparse_categorical_crossentropy' as loss."
      ],
      "metadata": {
        "id": "4pOLFitKH5BA"
      }
    },
    {
      "cell_type": "code",
      "source": [
        "model.compile(optimizer = 'SGD',loss='categorical_crossentropy', metrics = ['accuracy'])"
      ],
      "metadata": {
        "id": "WEaCljKyGJ_G"
      },
      "execution_count": 23,
      "outputs": []
    },
    {
      "cell_type": "code",
      "source": [
        "model.fit(X_train_scaled, y_train_onehotencoded, epochs = 10)"
      ],
      "metadata": {
        "colab": {
          "base_uri": "https://localhost:8080/"
        },
        "id": "_oRmElUvIjtv",
        "outputId": "1ae12dd5-2083-41ae-8548-7d2a02675d6f"
      },
      "execution_count": 24,
      "outputs": [
        {
          "output_type": "stream",
          "name": "stdout",
          "text": [
            "Epoch 1/10\n",
            "1563/1563 [==============================] - 9s 4ms/step - loss: 1.8070 - accuracy: 0.3568\n",
            "Epoch 2/10\n",
            "1563/1563 [==============================] - 7s 4ms/step - loss: 1.6188 - accuracy: 0.4295\n",
            "Epoch 3/10\n",
            "1563/1563 [==============================] - 7s 4ms/step - loss: 1.5366 - accuracy: 0.4577\n",
            "Epoch 4/10\n",
            "1563/1563 [==============================] - 7s 4ms/step - loss: 1.4745 - accuracy: 0.4787\n",
            "Epoch 5/10\n",
            "1563/1563 [==============================] - 7s 5ms/step - loss: 1.4247 - accuracy: 0.4988\n",
            "Epoch 6/10\n",
            "1563/1563 [==============================] - 7s 4ms/step - loss: 1.3820 - accuracy: 0.5133\n",
            "Epoch 7/10\n",
            "1563/1563 [==============================] - 7s 5ms/step - loss: 1.3434 - accuracy: 0.5272\n",
            "Epoch 8/10\n",
            "1563/1563 [==============================] - 7s 4ms/step - loss: 1.3090 - accuracy: 0.5420\n",
            "Epoch 9/10\n",
            "1563/1563 [==============================] - 7s 4ms/step - loss: 1.2744 - accuracy: 0.5543\n",
            "Epoch 10/10\n",
            "1563/1563 [==============================] - 7s 4ms/step - loss: 1.2446 - accuracy: 0.5625\n"
          ]
        },
        {
          "output_type": "execute_result",
          "data": {
            "text/plain": [
              "<keras.callbacks.History at 0x7f13100f2d50>"
            ]
          },
          "metadata": {},
          "execution_count": 24
        }
      ]
    },
    {
      "cell_type": "markdown",
      "source": [
        "As we see the accuracy is low, lets increase the epoch to 50"
      ],
      "metadata": {
        "id": "dcCZf9i1JQGG"
      }
    },
    {
      "cell_type": "code",
      "source": [
        "model.fit(X_train_scaled, y_train_onehotencoded, epochs = 50)"
      ],
      "metadata": {
        "colab": {
          "base_uri": "https://localhost:8080/"
        },
        "id": "xfiwl3tkI1ya",
        "outputId": "5500a8e8-6f7e-48bf-a2b2-ec00b56ade50"
      },
      "execution_count": 25,
      "outputs": [
        {
          "output_type": "stream",
          "name": "stdout",
          "text": [
            "Epoch 1/50\n",
            "1563/1563 [==============================] - 7s 4ms/step - loss: 1.2111 - accuracy: 0.5756\n",
            "Epoch 2/50\n",
            "1563/1563 [==============================] - 7s 4ms/step - loss: 1.1820 - accuracy: 0.5867\n",
            "Epoch 3/50\n",
            "1563/1563 [==============================] - 7s 4ms/step - loss: 1.1545 - accuracy: 0.5997\n",
            "Epoch 4/50\n",
            "1563/1563 [==============================] - 7s 4ms/step - loss: 1.1274 - accuracy: 0.6071\n",
            "Epoch 5/50\n",
            "1563/1563 [==============================] - 7s 4ms/step - loss: 1.0997 - accuracy: 0.6181\n",
            "Epoch 6/50\n",
            "1563/1563 [==============================] - 7s 4ms/step - loss: 1.0696 - accuracy: 0.6289\n",
            "Epoch 7/50\n",
            "1563/1563 [==============================] - 7s 4ms/step - loss: 1.0436 - accuracy: 0.6374\n",
            "Epoch 8/50\n",
            "1563/1563 [==============================] - 7s 4ms/step - loss: 1.0173 - accuracy: 0.6469\n",
            "Epoch 9/50\n",
            "1563/1563 [==============================] - 7s 4ms/step - loss: 0.9907 - accuracy: 0.6555\n",
            "Epoch 10/50\n",
            "1563/1563 [==============================] - 7s 4ms/step - loss: 0.9638 - accuracy: 0.6659\n",
            "Epoch 11/50\n",
            "1563/1563 [==============================] - 7s 4ms/step - loss: 0.9397 - accuracy: 0.6747\n",
            "Epoch 12/50\n",
            "1563/1563 [==============================] - 7s 4ms/step - loss: 0.9109 - accuracy: 0.6870\n",
            "Epoch 13/50\n",
            "1563/1563 [==============================] - 7s 4ms/step - loss: 0.8827 - accuracy: 0.6948\n",
            "Epoch 14/50\n",
            "1563/1563 [==============================] - 7s 4ms/step - loss: 0.8564 - accuracy: 0.7076\n",
            "Epoch 15/50\n",
            "1563/1563 [==============================] - 7s 4ms/step - loss: 0.8314 - accuracy: 0.7148\n",
            "Epoch 16/50\n",
            "1563/1563 [==============================] - 7s 4ms/step - loss: 0.8020 - accuracy: 0.7249\n",
            "Epoch 17/50\n",
            "1563/1563 [==============================] - 7s 5ms/step - loss: 0.7770 - accuracy: 0.7368\n",
            "Epoch 18/50\n",
            "1563/1563 [==============================] - 7s 4ms/step - loss: 0.7466 - accuracy: 0.7480\n",
            "Epoch 19/50\n",
            "1563/1563 [==============================] - 7s 4ms/step - loss: 0.7269 - accuracy: 0.7518\n",
            "Epoch 20/50\n",
            "1563/1563 [==============================] - 7s 4ms/step - loss: 0.6981 - accuracy: 0.7641\n",
            "Epoch 21/50\n",
            "1563/1563 [==============================] - 7s 4ms/step - loss: 0.6737 - accuracy: 0.7742\n",
            "Epoch 22/50\n",
            "1563/1563 [==============================] - 7s 4ms/step - loss: 0.6450 - accuracy: 0.7842\n",
            "Epoch 23/50\n",
            "1563/1563 [==============================] - 7s 4ms/step - loss: 0.6210 - accuracy: 0.7926\n",
            "Epoch 24/50\n",
            "1563/1563 [==============================] - 7s 4ms/step - loss: 0.5945 - accuracy: 0.8010\n",
            "Epoch 25/50\n",
            "1563/1563 [==============================] - 7s 4ms/step - loss: 0.5695 - accuracy: 0.8129\n",
            "Epoch 26/50\n",
            "1563/1563 [==============================] - 7s 4ms/step - loss: 0.5423 - accuracy: 0.8221\n",
            "Epoch 27/50\n",
            "1563/1563 [==============================] - 7s 4ms/step - loss: 0.5179 - accuracy: 0.8308\n",
            "Epoch 28/50\n",
            "1563/1563 [==============================] - 7s 4ms/step - loss: 0.4937 - accuracy: 0.8411\n",
            "Epoch 29/50\n",
            "1563/1563 [==============================] - 7s 4ms/step - loss: 0.4734 - accuracy: 0.8483\n",
            "Epoch 30/50\n",
            "1563/1563 [==============================] - 7s 4ms/step - loss: 0.4499 - accuracy: 0.8579\n",
            "Epoch 31/50\n",
            "1563/1563 [==============================] - 7s 4ms/step - loss: 0.4261 - accuracy: 0.8658\n",
            "Epoch 32/50\n",
            "1563/1563 [==============================] - 7s 4ms/step - loss: 0.4039 - accuracy: 0.8752\n",
            "Epoch 33/50\n",
            "1563/1563 [==============================] - 7s 4ms/step - loss: 0.3821 - accuracy: 0.8819\n",
            "Epoch 34/50\n",
            "1563/1563 [==============================] - 7s 4ms/step - loss: 0.3641 - accuracy: 0.8870\n",
            "Epoch 35/50\n",
            "1563/1563 [==============================] - 7s 4ms/step - loss: 0.3422 - accuracy: 0.8977\n",
            "Epoch 36/50\n",
            "1563/1563 [==============================] - 7s 4ms/step - loss: 0.3204 - accuracy: 0.9043\n",
            "Epoch 37/50\n",
            "1563/1563 [==============================] - 7s 4ms/step - loss: 0.3059 - accuracy: 0.9101\n",
            "Epoch 38/50\n",
            "1563/1563 [==============================] - 7s 5ms/step - loss: 0.2836 - accuracy: 0.9183\n",
            "Epoch 39/50\n",
            "1563/1563 [==============================] - 7s 4ms/step - loss: 0.2719 - accuracy: 0.9227\n",
            "Epoch 40/50\n",
            "1563/1563 [==============================] - 7s 4ms/step - loss: 0.2528 - accuracy: 0.9282\n",
            "Epoch 41/50\n",
            "1563/1563 [==============================] - 7s 4ms/step - loss: 0.2368 - accuracy: 0.9347\n",
            "Epoch 42/50\n",
            "1563/1563 [==============================] - 7s 4ms/step - loss: 0.2203 - accuracy: 0.9403\n",
            "Epoch 43/50\n",
            "1563/1563 [==============================] - 7s 4ms/step - loss: 0.2037 - accuracy: 0.9459\n",
            "Epoch 44/50\n",
            "1563/1563 [==============================] - 7s 4ms/step - loss: 0.1895 - accuracy: 0.9516\n",
            "Epoch 45/50\n",
            "1563/1563 [==============================] - 7s 4ms/step - loss: 0.1833 - accuracy: 0.9527\n",
            "Epoch 46/50\n",
            "1563/1563 [==============================] - 7s 4ms/step - loss: 0.1695 - accuracy: 0.9569\n",
            "Epoch 47/50\n",
            "1563/1563 [==============================] - 7s 4ms/step - loss: 0.1567 - accuracy: 0.9622\n",
            "Epoch 48/50\n",
            "1563/1563 [==============================] - 7s 4ms/step - loss: 0.1425 - accuracy: 0.9661\n",
            "Epoch 49/50\n",
            "1563/1563 [==============================] - 7s 4ms/step - loss: 0.1324 - accuracy: 0.9699\n",
            "Epoch 50/50\n",
            "1563/1563 [==============================] - 7s 4ms/step - loss: 0.1204 - accuracy: 0.9743\n"
          ]
        },
        {
          "output_type": "execute_result",
          "data": {
            "text/plain": [
              "<keras.callbacks.History at 0x7f12a0132850>"
            ]
          },
          "metadata": {},
          "execution_count": 25
        }
      ]
    },
    {
      "cell_type": "markdown",
      "source": [
        "## Test the model prediction"
      ],
      "metadata": {
        "id": "WmKrTfbkJcp3"
      }
    },
    {
      "cell_type": "markdown",
      "source": [
        "Original category"
      ],
      "metadata": {
        "id": "Jh-dAbynJgEn"
      }
    },
    {
      "cell_type": "code",
      "source": [
        "# Truth Value = 'cat'\n",
        "classes[y_test[0][0]]"
      ],
      "metadata": {
        "colab": {
          "base_uri": "https://localhost:8080/",
          "height": 36
        },
        "id": "pJ8VNmI_JV4Z",
        "outputId": "89e67a3b-8bfe-447a-9b33-f3e5b74901ab"
      },
      "execution_count": 26,
      "outputs": [
        {
          "output_type": "execute_result",
          "data": {
            "text/plain": [
              "'cat'"
            ],
            "application/vnd.google.colaboratory.intrinsic+json": {
              "type": "string"
            }
          },
          "metadata": {},
          "execution_count": 26
        }
      ]
    },
    {
      "cell_type": "markdown",
      "source": [
        "Model Prediction"
      ],
      "metadata": {
        "id": "l9b51Lw2Jm1v"
      }
    },
    {
      "cell_type": "code",
      "source": [
        "y_hat = model.predict(X_test_scaled)"
      ],
      "metadata": {
        "id": "V7tEsYQHKRau"
      },
      "execution_count": 27,
      "outputs": []
    },
    {
      "cell_type": "code",
      "source": [
        "y_hat"
      ],
      "metadata": {
        "colab": {
          "base_uri": "https://localhost:8080/"
        },
        "id": "Cj40aaroKVN8",
        "outputId": "b5228410-42c8-4184-fdc0-129f96bba55a"
      },
      "execution_count": 28,
      "outputs": [
        {
          "output_type": "execute_result",
          "data": {
            "text/plain": [
              "array([[5.83442032e-01, 5.35560310e-01, 7.30266154e-01, ...,\n",
              "        5.82007633e-04, 8.02780271e-01, 7.32946336e-01],\n",
              "       [9.75783765e-01, 9.96936440e-01, 2.45662555e-01, ...,\n",
              "        6.54079318e-01, 9.99992609e-01, 9.99340117e-01],\n",
              "       [9.96547401e-01, 9.44021404e-01, 1.14402823e-01, ...,\n",
              "        9.95564759e-01, 9.93769467e-01, 9.91922259e-01],\n",
              "       ...,\n",
              "       [4.37145561e-01, 1.21736981e-03, 9.90808964e-01, ...,\n",
              "        8.00197959e-01, 4.99910146e-01, 2.30001286e-01],\n",
              "       [3.03078443e-01, 1.04148805e-01, 3.87672633e-01, ...,\n",
              "        4.62694347e-01, 3.19240689e-02, 7.93668255e-02],\n",
              "       [1.00298204e-01, 2.26311192e-01, 7.09405839e-01, ...,\n",
              "        9.99813735e-01, 8.53809938e-02, 2.43747458e-01]], dtype=float32)"
            ]
          },
          "metadata": {},
          "execution_count": 28
        }
      ]
    },
    {
      "cell_type": "code",
      "source": [
        "y_hat[0]"
      ],
      "metadata": {
        "colab": {
          "base_uri": "https://localhost:8080/"
        },
        "id": "EGjhL36LLmEU",
        "outputId": "e729662d-54fe-4cc9-b138-ec0d07c3e194"
      },
      "execution_count": 29,
      "outputs": [
        {
          "output_type": "execute_result",
          "data": {
            "text/plain": [
              "array([5.8344203e-01, 5.3556031e-01, 7.3026615e-01, 9.9961156e-01,\n",
              "       6.6677511e-01, 6.8900585e-01, 3.1323275e-03, 5.8200763e-04,\n",
              "       8.0278027e-01, 7.3294634e-01], dtype=float32)"
            ]
          },
          "metadata": {},
          "execution_count": 29
        }
      ]
    },
    {
      "cell_type": "code",
      "source": [
        "# Predicted value\n",
        "classes[(np.argmax(y_hat[0]))]\n",
        "# Truth Value same as predicted value 'cat'"
      ],
      "metadata": {
        "colab": {
          "base_uri": "https://localhost:8080/",
          "height": 36
        },
        "id": "IsdDXVsNJkCS",
        "outputId": "09afba7e-d108-4e8f-b2cb-33a4bc55faae"
      },
      "execution_count": 30,
      "outputs": [
        {
          "output_type": "execute_result",
          "data": {
            "text/plain": [
              "'cat'"
            ],
            "application/vnd.google.colaboratory.intrinsic+json": {
              "type": "string"
            }
          },
          "metadata": {},
          "execution_count": 30
        }
      ]
    },
    {
      "cell_type": "code",
      "source": [
        "classes[y_test[3][0]]"
      ],
      "metadata": {
        "colab": {
          "base_uri": "https://localhost:8080/",
          "height": 36
        },
        "id": "-J5mj8gYMDLb",
        "outputId": "ceb8c573-0877-41cf-e966-cee6124c96c6"
      },
      "execution_count": 31,
      "outputs": [
        {
          "output_type": "execute_result",
          "data": {
            "text/plain": [
              "'airplane'"
            ],
            "application/vnd.google.colaboratory.intrinsic+json": {
              "type": "string"
            }
          },
          "metadata": {},
          "execution_count": 31
        }
      ]
    },
    {
      "cell_type": "code",
      "source": [
        "classes[np.argmax(y_hat[3])]"
      ],
      "metadata": {
        "colab": {
          "base_uri": "https://localhost:8080/",
          "height": 36
        },
        "id": "7-ZLITDTMMCP",
        "outputId": "40e4f887-66d1-4fb5-815b-ee916ac11c9a"
      },
      "execution_count": 32,
      "outputs": [
        {
          "output_type": "execute_result",
          "data": {
            "text/plain": [
              "'airplane'"
            ],
            "application/vnd.google.colaboratory.intrinsic+json": {
              "type": "string"
            }
          },
          "metadata": {},
          "execution_count": 32
        }
      ]
    },
    {
      "cell_type": "code",
      "source": [
        "classes[y_test[4][0]]"
      ],
      "metadata": {
        "colab": {
          "base_uri": "https://localhost:8080/",
          "height": 36
        },
        "id": "dkzMPFxmMTA5",
        "outputId": "4a470423-f040-4d88-dcd0-c6e7f282f98b"
      },
      "execution_count": 33,
      "outputs": [
        {
          "output_type": "execute_result",
          "data": {
            "text/plain": [
              "'frog'"
            ],
            "application/vnd.google.colaboratory.intrinsic+json": {
              "type": "string"
            }
          },
          "metadata": {},
          "execution_count": 33
        }
      ]
    },
    {
      "cell_type": "code",
      "source": [
        "classes[np.argmax(y_hat[4])]"
      ],
      "metadata": {
        "colab": {
          "base_uri": "https://localhost:8080/",
          "height": 36
        },
        "id": "IkbmATOYMWXu",
        "outputId": "a63eadd2-50da-46d0-ac43-faa52adc3ab7"
      },
      "execution_count": 34,
      "outputs": [
        {
          "output_type": "execute_result",
          "data": {
            "text/plain": [
              "'deer'"
            ],
            "application/vnd.google.colaboratory.intrinsic+json": {
              "type": "string"
            }
          },
          "metadata": {},
          "execution_count": 34
        }
      ]
    },
    {
      "cell_type": "code",
      "source": [
        "classes[y_test[6][0]]"
      ],
      "metadata": {
        "colab": {
          "base_uri": "https://localhost:8080/",
          "height": 36
        },
        "id": "9iC7yzqqMhdn",
        "outputId": "d2faeb31-f53e-4071-926f-30d2c6a1ed4c"
      },
      "execution_count": 35,
      "outputs": [
        {
          "output_type": "execute_result",
          "data": {
            "text/plain": [
              "'automobile'"
            ],
            "application/vnd.google.colaboratory.intrinsic+json": {
              "type": "string"
            }
          },
          "metadata": {},
          "execution_count": 35
        }
      ]
    },
    {
      "cell_type": "code",
      "source": [
        "classes[np.argmax(y_hat[6])]"
      ],
      "metadata": {
        "colab": {
          "base_uri": "https://localhost:8080/",
          "height": 36
        },
        "id": "BR-rXQUsMkn3",
        "outputId": "348ff190-d08b-4119-f74a-73c98f047b2d"
      },
      "execution_count": 36,
      "outputs": [
        {
          "output_type": "execute_result",
          "data": {
            "text/plain": [
              "'automobile'"
            ],
            "application/vnd.google.colaboratory.intrinsic+json": {
              "type": "string"
            }
          },
          "metadata": {},
          "execution_count": 36
        }
      ]
    },
    {
      "cell_type": "markdown",
      "source": [
        "## Model evaluation"
      ],
      "metadata": {
        "id": "FbyKufbNKboF"
      }
    },
    {
      "cell_type": "code",
      "source": [
        "loss, accuracy = model.evaluate(X_test_scaled,y_test_onehotencoded)"
      ],
      "metadata": {
        "colab": {
          "base_uri": "https://localhost:8080/"
        },
        "id": "MPpDUTDoKd2s",
        "outputId": "282c1e72-8462-493b-ef2a-cd54521ade9c"
      },
      "execution_count": 37,
      "outputs": [
        {
          "output_type": "stream",
          "name": "stdout",
          "text": [
            "313/313 [==============================] - 1s 3ms/step - loss: 1.7528 - accuracy: 0.5660\n"
          ]
        }
      ]
    },
    {
      "cell_type": "markdown",
      "source": [
        "## Performance test CPU vs GPU"
      ],
      "metadata": {
        "id": "gobOVtHtM3b9"
      }
    },
    {
      "cell_type": "code",
      "source": [
        "def get_model():\n",
        "  model = keras.Sequential([\n",
        "                          keras.layers.Flatten(input_shape = (32,32,3)),\n",
        "                          keras.layers.Dense(3000,activation = 'relu'),\n",
        "                          keras.layers.Dense(3000,activation = 'relu'),\n",
        "                          keras.layers.Dense(10,activation='sigmoid')\n",
        "])\n",
        "  model.compile(optimizer = 'SGD',loss ='categorical_crossentropy' ,metrics = ['accuracy'])\n",
        "  return model"
      ],
      "metadata": {
        "id": "HQ2hr6L9MnIv"
      },
      "execution_count": 38,
      "outputs": []
    },
    {
      "cell_type": "code",
      "source": [
        "%%timeit -n1 -r1\n",
        "with tf.device('/CPU:0'):\n",
        "  cpu_model = get_model()\n",
        "  cpu_model.fit(X_train_scaled, y_train_onehotencoded, epochs = 1)\n"
      ],
      "metadata": {
        "colab": {
          "base_uri": "https://localhost:8080/"
        },
        "id": "rTUi8urmQEkf",
        "outputId": "1f1dc330-3f23-4167-950d-c8f8c03b42db"
      },
      "execution_count": 39,
      "outputs": [
        {
          "output_type": "stream",
          "name": "stdout",
          "text": [
            "1563/1563 [==============================] - 138s 88ms/step - loss: 1.8084 - accuracy: 0.3570\n",
            "1 loop, best of 1: 2min 22s per loop\n"
          ]
        }
      ]
    },
    {
      "cell_type": "code",
      "source": [
        "%%timeit -n1 -r1\n",
        "with tf.device('/GPU:0'):\n",
        "  gpu_model = get_model()\n",
        "  gpu_model.fit(X_train_scaled, y_train_onehotencoded, epochs = 1)\n"
      ],
      "metadata": {
        "colab": {
          "base_uri": "https://localhost:8080/"
        },
        "id": "CqXwB4RHQZGi",
        "outputId": "e9a8e25d-9eb3-49e7-9344-0faae1a63396"
      },
      "execution_count": 40,
      "outputs": [
        {
          "output_type": "stream",
          "name": "stdout",
          "text": [
            "1563/1563 [==============================] - 7s 4ms/step - loss: 1.8055 - accuracy: 0.3586\n",
            "1 loop, best of 1: 11.4 s per loop\n"
          ]
        }
      ]
    },
    {
      "cell_type": "markdown",
      "source": [
        "Final Review of performance\n",
        "\n",
        "\n",
        "\n",
        "---\n",
        "Epoch  | CPU       |    GPU    |        \n",
        "-------|-----------|-----------|\n",
        "10     | 2min 22s  | 23min 22s |\n",
        "1      | 1min 8s   | 11sec     |"
      ],
      "metadata": {
        "id": "EHYiKIzIR4Wx"
      }
    },
    {
      "cell_type": "code",
      "source": [
        ""
      ],
      "metadata": {
        "id": "FLTph5FuRKXZ"
      },
      "execution_count": 40,
      "outputs": []
    }
  ]
}